{
 "cells": [
  {
   "cell_type": "markdown",
   "id": "303d18ca",
   "metadata": {},
   "source": [
    "## OOP project"
   ]
  },
  {
   "cell_type": "markdown",
   "id": "5cada111",
   "metadata": {},
   "source": [
    "A Bike Rental System\n",
    "\n",
    "A full fledged bike rental system implemented in Python using object oriented programming.\n",
    "\n",
    "Customers can see available bikes on the shop.\n",
    "Rent bikes on daily basis Rs.100 per day.\n",
    "Rent bikes on weekly basis Rs.500 per week.\n",
    "Family Rental, a promotion that can include from 3 to 5 Rentals (of any type) with a discount of 30% of the total price.\n",
    "\n",
    "The bike rental shop can issue a bill when customer decides to return the bike,\n",
    "display available inventory ,take requests on daily and weekly basis by cross verifying stock.\n",
    "\n",
    "For simplicity we assume that\n",
    "Any customer requests rentals of only one type i.e daily or weekly and is free to choose the number of bikes he/she wants.\n",
    "Requested bikes should be less than available stock."
   ]
  },
  {
   "cell_type": "markdown",
   "id": "abae9162",
   "metadata": {},
   "source": [
    "## Step 1\n",
    "\n",
    "Create a parent class `BikeRental`. Define `stock` as `class attribute` and assign value 100 to it.\n",
    "\n",
    "This class should not take any other attribute and when the object is created, it should display the message \"Welcome to rental bike shop.\"\n",
    "\n",
    "Define a method `displaystock` inside this class and when this method is called, it should display the total number of stock available."
   ]
  },
  {
   "cell_type": "code",
   "execution_count": 1,
   "id": "8816e06c",
   "metadata": {},
   "outputs": [
    {
     "name": "stdout",
     "output_type": "stream",
     "text": [
      "Welcome to rental bike shop.\n",
      "Total number of bikes available: 100\n"
     ]
    }
   ],
   "source": [
    "## your code goes here ##\n",
    "class BikeRental:\n",
    "    stock = 100  \n",
    "    def __init__(self):\n",
    "        print(\"Welcome to rental bike shop.\")\n",
    "    def displaystock(self):\n",
    "        print(f\"Total number of bikes available: {self.stock}\")\n",
    "\n",
    "bike_shop = BikeRental()\n",
    "bike_shop.displaystock()"
   ]
  },
  {
   "cell_type": "markdown",
   "id": "2ca3fb5c",
   "metadata": {},
   "source": [
    "Create an object `bike_shop` of above class."
   ]
  },
  {
   "cell_type": "markdown",
   "id": "73d006a8",
   "metadata": {},
   "source": [
    "Check if above created object can access the `class attribute` `stock`."
   ]
  },
  {
   "cell_type": "code",
   "execution_count": 2,
   "id": "a96da206",
   "metadata": {
    "scrolled": true
   },
   "outputs": [],
   "source": [
    "## your code goes here ##\n",
    "class BikeShop:\n",
    "    stock = [\"Bike A\", \"Bike B\", \"Bike C\"]  \n",
    "    def __init__(self, name):\n",
    "        self.name = name\n",
    "    def show_stock(self):\n",
    "        print(f\"{self.name} has the following bikes in stock: {self.stock}\")"
   ]
  },
  {
   "cell_type": "code",
   "execution_count": 3,
   "id": "4460bd03",
   "metadata": {},
   "outputs": [
    {
     "name": "stdout",
     "output_type": "stream",
     "text": [
      "['Bike A', 'Bike B', 'Bike C']\n",
      "Two Wheels has the following bikes in stock: ['Bike A', 'Bike B', 'Bike C']\n"
     ]
    }
   ],
   "source": [
    "bike_shop = BikeShop(\"Two Wheels\")\n",
    "print(bike_shop.stock)  \n",
    "bike_shop.show_stock()  "
   ]
  },
  {
   "cell_type": "markdown",
   "id": "a702f97d",
   "metadata": {},
   "source": [
    "Call the method `displaystock` using above created object `bike_shop`."
   ]
  },
  {
   "cell_type": "markdown",
   "id": "d3a33de1",
   "metadata": {},
   "source": [
    "## Step 2\n",
    "\n",
    "Create a derived class `Customer` to inherit the methods from `BikeRental` class.\n",
    "Define `bill` as `class attribute`and set it's initial value as zero.\n",
    "\n",
    "This class has `number_of_bikes`, `rentalBasis` (daily or weekly) and `number_of_days_or_weeks` as attributes."
   ]
  },
  {
   "cell_type": "code",
   "execution_count": 4,
   "id": "50196270",
   "metadata": {},
   "outputs": [
    {
     "name": "stdout",
     "output_type": "stream",
     "text": [
      "Customer: Siddharth\n",
      "Number of bikes rented: 2\n",
      "Rental basis: daily\n",
      "Number of days/weeks rented: 3\n",
      "Current bill amount: 0\n"
     ]
    }
   ],
   "source": [
    "## your code goes here ##\n",
    "class BikeRental:\n",
    "    def __init__(self):\n",
    "        pass\n",
    "\n",
    "class Customer(BikeRental):\n",
    "    bill = 0\n",
    "    def __init__(self, name, number_of_bikes, rental_basis, number_of_days_or_weeks):\n",
    "        super().__init__()\n",
    "        self.name = name\n",
    "        self.number_of_bikes = number_of_bikes\n",
    "        self.rental_basis = rental_basis\n",
    "        self.number_of_days_or_weeks = number_of_days_or_weeks\n",
    "\n",
    "customer1 = Customer(\"Siddharth\", 2, \"daily\", 3)    \n",
    "print(f\"Customer: {customer1.name}\")\n",
    "print(f\"Number of bikes rented: {customer1.number_of_bikes}\")\n",
    "print(f\"Rental basis: {customer1.rental_basis}\")\n",
    "print(f\"Number of days/weeks rented: {customer1.number_of_days_or_weeks}\")\n",
    "print(f\"Current bill amount: {Customer.bill}\")\n"
   ]
  },
  {
   "cell_type": "code",
   "execution_count": null,
   "id": "363883ea",
   "metadata": {},
   "outputs": [],
   "source": []
  },
  {
   "cell_type": "markdown",
   "id": "98a400fe",
   "metadata": {},
   "source": [
    "Define a function `rentBike`, it should have following conditions:\n",
    "\n",
    "- if `number_of_bikes` is less than or equal to zero, it should display the message \"Number of bikes should be positive!\".\n",
    "\n",
    "- if `number_of_bikes` is greater than the `stock`, it should display the `number_of_bikes` available to rent.\n",
    "\n",
    "- Otherwise display the total `number_of_bikes` rented by the customer. Do not forget to update the value of `stock` i.e. subtract the `number_of_bikes` rented from stock and display the updated `stock`."
   ]
  },
  {
   "cell_type": "code",
   "execution_count": 5,
   "id": "0f15d993",
   "metadata": {},
   "outputs": [
    {
     "name": "stdout",
     "output_type": "stream",
     "text": [
      "Total number of bikes rented: 3\n",
      "Updated stock: 7\n",
      "Number of bikes should be positive!\n",
      "Only 7 bike(s) available to rent.\n",
      "Total number of bikes rented: 5\n",
      "Updated stock: 2\n"
     ]
    }
   ],
   "source": [
    "## your code goes here ##\n",
    "def rentBike(number_of_bikes, stock):\n",
    "    if number_of_bikes <= 0:\n",
    "        print(\"Number of bikes should be positive!\")\n",
    "    elif number_of_bikes > stock:\n",
    "        print(f\"Only {stock} bike(s) available to rent.\")\n",
    "    else:\n",
    "        print(f\"Total number of bikes rented: {number_of_bikes}\")\n",
    "        stock -= number_of_bikes\n",
    "        print(f\"Updated stock: {stock}\")\n",
    "    return stock\n",
    "\n",
    "stock = 10\n",
    "stock = rentBike(3, stock)  \n",
    "stock = rentBike(0, stock)  \n",
    "stock = rentBike(8, stock)  \n",
    "stock = rentBike(5, stock)  \n"
   ]
  },
  {
   "cell_type": "code",
   "execution_count": null,
   "id": "e66fb261",
   "metadata": {},
   "outputs": [],
   "source": []
  },
  {
   "cell_type": "markdown",
   "id": "cb22ec0f",
   "metadata": {},
   "source": [
    "Define a function `returnBike` to return the total bill of customer.\n",
    "- Check if `rentalBasis` is ' daily ' or ' weekly ' and accordingly calculate the bill. Rent on ' daily ' basis is Rs. 100 per bike and for ' weekly ' basis it is Rs. 500 per bike.\n",
    "\n",
    "- If `number_of_bikes` rented by customer is between 3 to 5 (both values inclusive), 30% discount is offered on total bill. So it should display the message \"You are eligible for Family rental promotion of 30% discount\"."
   ]
  },
  {
   "cell_type": "code",
   "execution_count": 10,
   "id": "48be1e59",
   "metadata": {},
   "outputs": [
    {
     "name": "stdout",
     "output_type": "stream",
     "text": [
      "You are eligible for Family rental of 30% discount\n",
      "Total bill Rs:280.0\n",
      "Total bill Rs:None\n",
      "Total bill Rs:None\n",
      "You are eligible for Family rental of 30% discount\n",
      "Total bill Rs:1400.0\n"
     ]
    }
   ],
   "source": [
    "## your code goes here ##\n",
    "def returnbike(number_of_bikes,rentalBasis):\n",
    "    rates = {'daily':100,'weekly':500}\n",
    "    if rentalBasis not in rates:\n",
    "        print(\"Invalid rental basis\")\n",
    "        return 0\n",
    "    total_bill = number_of_bikes * rates[rentalBasis]\n",
    "    if 3 <= number_of_bikes <= 5:\n",
    "        print(\"You are eligible for Family rental of 30% discount\")\n",
    "        total_bill *=0.7\n",
    "        return total_bill\n",
    "print(f\"Total bill Rs:{returnbike(4,'daily')}\")\n",
    "print(f\"Total bill Rs:{returnbike(2,'weekly')}\")\n",
    "print(f\"Total bill Rs:{returnbike(6,'daily')}\")\n",
    "print(f\"Total bill Rs:{returnbike(4,'weekly')}\")\n",
    "\n",
    "    \n",
    "        "
   ]
  },
  {
   "cell_type": "code",
   "execution_count": null,
   "id": "29935c98",
   "metadata": {},
   "outputs": [],
   "source": []
  },
  {
   "cell_type": "markdown",
   "id": "fa66397a",
   "metadata": {},
   "source": [
    "## Step 3\n",
    "\n",
    "Write complete `Customer` class using above defined functions `returnBike` and `rentBike` inside it as methods."
   ]
  },
  {
   "cell_type": "code",
   "execution_count": 4,
   "id": "e1c7c3f5",
   "metadata": {},
   "outputs": [
    {
     "name": "stdout",
     "output_type": "stream",
     "text": [
      "Total number of bikes rented: 4\n",
      "Updated stock: 6\n",
      "Number of bikes should be positive!\n",
      "Total number of bikes rented: 5\n",
      "Updated stock: 1\n",
      "You are eligible for Family rental promotion of 30% discount.\n",
      "Total bill: Rs. 280.0\n",
      "Total bill: Rs. 1000\n",
      "Total bill: Rs. 600\n",
      "Invalid rental basis.\n",
      "Total bill: Rs. 0\n"
     ]
    }
   ],
   "source": [
    "## your code goes here ##\n",
    "\n",
    "class Customer:\n",
    "    def __init__(self, stock):\n",
    "        self.stock = stock\n",
    "\n",
    "    def rentBike(self, number_of_bikes):\n",
    "        if number_of_bikes <= 0:\n",
    "            print(\"Number of bikes should be positive!\")\n",
    "        elif number_of_bikes > self.stock:\n",
    "            print(f\"Only {self.stock} bike available to rent.\")\n",
    "        else:\n",
    "            self.stock -= number_of_bikes\n",
    "            print(f\"Total number of bikes rented: {number_of_bikes}\\nUpdated stock: {self.stock}\")\n",
    "\n",
    "    def returnBike(self, number_of_bikes, rentalBasis):\n",
    "        rates = {'daily': 100, 'weekly': 500}\n",
    "        if rentalBasis not in rates:\n",
    "            print(\"Invalid rental basis.\")\n",
    "            return 0\n",
    "        total_bill = number_of_bikes * rates[rentalBasis]\n",
    "        if 3 <= number_of_bikes <= 5:\n",
    "            print(\"You are eligible for Family rental promotion of 30% discount.\")\n",
    "            total_bill *= 0.7\n",
    "        return total_bill\n",
    "\n",
    "customer = Customer(stock=10)\n",
    "customer.rentBike(4)\n",
    "customer.rentBike(0)\n",
    "customer.rentBike(5)\n",
    "\n",
    "print(f\"Total bill: Rs. {customer.returnBike(4, 'daily')}\")\n",
    "print(f\"Total bill: Rs. {customer.returnBike(2, 'weekly')}\")\n",
    "print(f\"Total bill: Rs. {customer.returnBike(6, 'daily')}\")\n",
    "print(f\"Total bill: Rs. {customer.returnBike(4, 'monthly')}\")\n"
   ]
  },
  {
   "cell_type": "code",
   "execution_count": null,
   "id": "b8753564",
   "metadata": {},
   "outputs": [],
   "source": []
  },
  {
   "cell_type": "markdown",
   "id": "dea7483f",
   "metadata": {},
   "source": [
    "## Step 4\n",
    "\n",
    "Check your `Bike Rental System` for test-case objects given below :\n",
    "\n",
    "For first four customers - check all the three attribute values and call `rentBike` and `returnBike` methods. \n",
    "\n",
    "- customer_1 = Customer(2,'day',5)\n",
    "\n",
    "- customer_2 = Customer(1,'week',3)\n",
    "\n",
    "- customer_3 = Customer(4,'day',3)  - Is family discount applicable here ?\n",
    "\n",
    "- customer_4 = Customer(3,'week',3) - Is family discount applicable here ?\n",
    "\n",
    "Call `rentBike` and `displaystock` methods for test-case objects given below :\n",
    "\n",
    "- customer_5 = Customer(120,'week',3)\n",
    "\n",
    "- customer_6 = Customer(0,'week',3)\n",
    "\n",
    "- customer_7 = Customer(-5,'week',3)\n",
    "\n",
    "- customer_8 = Customer(1,'day',3)"
   ]
  },
  {
   "cell_type": "code",
   "execution_count": 3,
   "id": "40d0a7aa",
   "metadata": {},
   "outputs": [
    {
     "name": "stdout",
     "output_type": "stream",
     "text": [
      "\n",
      "Customer 1:\n",
      "Stock: 2, Rental Basis: day, Number of Bikes: 5\n",
      "Only 2 bike available to rent.\n",
      "You are eligible for Family rental promotion of 30% discount.\n",
      "Total bill: Rs. 350.0\n",
      "Current stock: 2\n",
      "\n",
      "Customer 2:\n",
      "Stock: 1, Rental Basis: week, Number of Bikes: 3\n",
      "Only 1 bike available to rent.\n",
      "You are eligible for Family rental promotion of 30% discount.\n",
      "Total bill: Rs. 1050.0\n",
      "Current stock: 1\n",
      "\n",
      "Customer 3:\n",
      "Stock: 4, Rental Basis: day, Number of Bikes: 3\n",
      "Total number of bikes rented: 3 \n",
      "Updated stock: 1\n",
      "You are eligible for Family rental promotion of 30% discount.\n",
      "Total bill: Rs. 210.0\n",
      "Current stock: 1\n",
      "\n",
      "Customer 4:\n",
      "Stock: 3, Rental Basis: week, Number of Bikes: 3\n",
      "Total number of bikes rented: 3 \n",
      "Updated stock: 0\n",
      "You are eligible for Family rental promotion of 30% discount.\n",
      "Total bill: Rs. 1050.0\n",
      "Current stock: 0\n",
      "\n",
      "Customer 5:\n",
      "Stock: 120, Rental Basis: week, Number of Bikes: 3\n",
      "Total number of bikes rented: 3 \n",
      "Updated stock: 117\n",
      "Current stock: 117\n",
      "\n",
      "Customer 6:\n",
      "Stock: 0, Rental Basis: week, Number of Bikes: 3\n",
      "Only 0 bike available to rent.\n",
      "Current stock: 0\n",
      "\n",
      "Customer 7:\n",
      "Stock: -5, Rental Basis: week, Number of Bikes: 3\n",
      "Only -5 bike available to rent.\n",
      "Current stock: -5\n",
      "\n",
      "Customer 8:\n",
      "Stock: 1, Rental Basis: day, Number of Bikes: 3\n",
      "Only 1 bike available to rent.\n",
      "Current stock: 1\n"
     ]
    }
   ],
   "source": [
    "class Customer:\n",
    "    def __init__(self, stock, rentalBasis, number_of_bikes):\n",
    "        self.stock = stock\n",
    "        self.rentalBasis = rentalBasis\n",
    "        self.number_of_bikes = number_of_bikes\n",
    "\n",
    "    def rentBike(self):\n",
    "        if self.number_of_bikes <= 0:\n",
    "            print(\"Number of bikes should be positive!\")\n",
    "        elif self.number_of_bikes > self.stock:\n",
    "            print(f\"Only {self.stock} bike available to rent.\")\n",
    "        else:\n",
    "            self.stock -= self.number_of_bikes\n",
    "            print(f\"Total number of bikes rented: {self.number_of_bikes} \\nUpdated stock: {self.stock}\")\n",
    "\n",
    "    def returnBike(self):\n",
    "        rates = {'day': 100, 'week': 500}\n",
    "        if self.rentalBasis not in rates:\n",
    "            print(\"Invalid rental basis.\")\n",
    "            return 0\n",
    "        total_bill = self.number_of_bikes * rates[self.rentalBasis]\n",
    "        if 3 <= self.number_of_bikes <= 5:\n",
    "            print(\"You are eligible for Family rental promotion of 30% discount.\")\n",
    "            total_bill *= 0.7\n",
    "        return total_bill\n",
    "\n",
    "    def displayStock(self):\n",
    "        print(f\"Current stock: {self.stock}\")\n",
    "\n",
    "\n",
    "customers = [\n",
    "    Customer(2, 'day', 5),   \n",
    "    Customer(1, 'week', 3), \n",
    "    Customer(4, 'day', 3),   \n",
    "    Customer(3, 'week', 3),  \n",
    "]\n",
    "\n",
    "additional_customers = [\n",
    "    Customer(120, 'week', 3),  \n",
    "    Customer(0, 'week', 3),    \n",
    "    Customer(-5, 'week', 3),   \n",
    "    Customer(1, 'day', 3),     \n",
    "]\n",
    "\n",
    "index = 1\n",
    "for customer in customers:\n",
    "    print(f\"\\nCustomer {index}:\")\n",
    "    print(f\"Stock: {customer.stock}, Rental Basis: {customer.rentalBasis}, Number of Bikes: {customer.number_of_bikes}\")\n",
    "    customer.rentBike()\n",
    "    bill = customer.returnBike()\n",
    "    print(f\"Total bill: Rs. {bill}\")\n",
    "    customer.displayStock()\n",
    "    index += 1\n",
    "\n",
    "for customer in additional_customers:\n",
    "    print(f\"\\nCustomer {index}:\")\n",
    "    print(f\"Stock: {customer.stock}, Rental Basis: {customer.rentalBasis}, Number of Bikes: {customer.number_of_bikes}\")\n",
    "    customer.rentBike()\n",
    "    customer.displayStock()\n",
    "    index+=1\n"
   ]
  },
  {
   "cell_type": "code",
   "execution_count": null,
   "id": "486b0c66",
   "metadata": {},
   "outputs": [],
   "source": []
  }
 ],
 "metadata": {
  "kernelspec": {
   "display_name": "Python 3 (ipykernel)",
   "language": "python",
   "name": "python3"
  },
  "language_info": {
   "codemirror_mode": {
    "name": "ipython",
    "version": 3
   },
   "file_extension": ".py",
   "mimetype": "text/x-python",
   "name": "python",
   "nbconvert_exporter": "python",
   "pygments_lexer": "ipython3",
   "version": "3.10.9"
  }
 },
 "nbformat": 4,
 "nbformat_minor": 5
}
